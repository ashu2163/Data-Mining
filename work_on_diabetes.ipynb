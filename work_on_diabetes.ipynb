{
 "cells": [
  {
   "cell_type": "code",
   "execution_count": 1,
   "metadata": {},
   "outputs": [],
   "source": [
    "import pandas as pd\n",
    "import numpy as np\n",
    "from sklearn.datasets.samples_generator import make_blobs\n",
    "from sklearn.cluster import KMeans\n",
    "import matplotlib.pyplot as plt\n",
    "import math"
   ]
  },
  {
   "cell_type": "code",
   "execution_count": 2,
   "metadata": {},
   "outputs": [],
   "source": [
    "df=pd.read_csv('diabetes.csv')"
   ]
  },
  {
   "cell_type": "code",
   "execution_count": 3,
   "metadata": {},
   "outputs": [
    {
     "name": "stdout",
     "output_type": "stream",
     "text": [
      "Cluster #0: High Risk, Cluster #1: Medium Risk, Cluster #2: Low Risk\n",
      "\n",
      "      chol  age  weight  Cluster\n",
      "2    228.0   58   256.0        2\n",
      "6    195.0   30   191.0        0\n",
      "8    177.0   45   166.0        0\n",
      "10   242.0   60   156.0        1\n",
      "15   213.0   33   157.0        0\n",
      "20   186.0   70   178.0        0\n",
      "21   234.0   47   230.0        2\n",
      "23   281.0   66   185.0        1\n",
      "24   228.0   24   113.0        0\n",
      "29   215.0   40   189.0        0\n",
      "30   177.0   42   174.0        0\n",
      "32   265.0   61   191.0        1\n",
      "33   182.0   61   174.0        0\n",
      "39   182.0   70   214.0        2\n",
      "42   225.0   36   192.0        0\n",
      "49   157.0   55   219.0        2\n",
      "52   212.0   65   187.0        0\n",
      "55   193.0   20   274.0        2\n",
      "60   296.0   74   183.0        1\n",
      "62   443.0   51   235.0        1\n",
      "67   213.0   71   165.0        0\n",
      "68   173.0   76   102.0        0\n",
      "70   171.0   40   214.0        2\n",
      "73   180.0   40   264.0        2\n",
      "75   209.0   76   143.0        0\n",
      "77   134.0   48   173.0        0\n",
      "91   249.0   64   159.0        1\n",
      "95   203.0   21   142.0        0\n",
      "97   245.0   47   156.0        1\n",
      "98   143.0   61   220.0        2\n",
      "..     ...  ...     ...      ...\n",
      "350  150.0   35   179.0        0\n",
      "351  185.0   50   228.0        2\n",
      "352  226.0   27   289.0        2\n",
      "353  206.0   52   153.0        0\n",
      "354  199.0   42   235.0        2\n",
      "355  239.0   39   144.0        0\n",
      "357  184.0   28   154.0        0\n",
      "358  242.0   53   216.0        2\n",
      "360  204.0   55   202.0        2\n",
      "364  226.0   84   192.0        0\n",
      "366  157.0   80   212.0        2\n",
      "367  235.0   60   186.0        1\n",
      "368  252.0   80   162.0        1\n",
      "371  194.0   63   210.0        2\n",
      "372  215.0   37   148.0        0\n",
      "373  179.0   20   170.0        0\n",
      "375  194.0   54   129.0        0\n",
      "376  227.0   58   211.0        2\n",
      "378  255.0   52   120.0        1\n",
      "382  217.0   33   186.0        0\n",
      "383  209.0   37   262.0        2\n",
      "386  179.0   32   179.0        0\n",
      "387  279.0   60   224.0        1\n",
      "389  270.0   42   185.0        1\n",
      "390  196.0   52   147.0        0\n",
      "394  169.0   25   154.0        0\n",
      "395  179.0   37   136.0        0\n",
      "397  301.0   89   115.0        1\n",
      "398  296.0   53   173.0        1\n",
      "399  284.0   51   154.0        1\n",
      "\n",
      "[130 rows x 4 columns]\n",
      "Cluster #0: High Risk, Cluster #1: Medium Risk, Cluster #2: Low Risk\n",
      "\n",
      "               chol        age      weight\n",
      "Cluster                                   \n",
      "0        197.050000  49.050000  161.000000\n",
      "1        278.727273  57.151515  173.818182\n",
      "2        195.702703  47.864865  233.351351\n"
     ]
    }
   ],
   "source": [
    "#1. Designing a program which makes a cluster of people in high risk, medium risk and low risk based on chol, age, weight.\n",
    "\n",
    "modifieddata=df.dropna()\n",
    "df1 = pd.DataFrame(modifieddata, columns=['chol', 'age', 'weight'])\n",
    "kmeans = KMeans(n_clusters=3)\n",
    "\n",
    "y = kmeans.fit_predict(df1[['chol', 'age', 'weight']])\n",
    "\n",
    "df1['Cluster'] = y\n",
    "print(\"Cluster #0: High Risk, Cluster #1: Medium Risk, Cluster #2: Low Risk\")\n",
    "print\n",
    "avg=df1.groupby('Cluster')['chol','age','weight'].mean()\n",
    "print(df1)\n",
    "\n",
    "print(\"Cluster #0: High Risk, Cluster #1: Medium Risk, Cluster #2: Low Risk\")\n",
    "print\n",
    "print(avg)\n"
   ]
  },
  {
   "cell_type": "code",
   "execution_count": 4,
   "metadata": {},
   "outputs": [
    {
     "name": "stdout",
     "output_type": "stream",
     "text": [
      "Cluster #0: High Risk, Cluster #1: Medium Risk, Cluster #2: Low Risk\n",
      "\n",
      "              bp.1s      bp.1d       bp.2s      bp.2d\n",
      "Cluster                                              \n",
      "0        155.283333  93.466667  152.983333  91.366667\n",
      "1        160.515152  96.242424  156.787879  93.727273\n",
      "2        151.702703  94.459459  149.945946  93.324324\n"
     ]
    }
   ],
   "source": [
    "#2. Based on above cluster, extract the average of person with bp.1s, bp.1d, bp.2s, bp.2d.\n",
    "\n",
    "df2 = pd.DataFrame(modifieddata, columns=['chol', 'age', 'weight','bp.1s','bp.1d','bp.2s','bp.2d'])\n",
    "kmeans = KMeans(n_clusters=3)\n",
    "\n",
    "y = kmeans.fit_predict(df2[['chol', 'age', 'weight']])\n",
    "\n",
    "df2['Cluster'] = y\n",
    "print(\"Cluster #0: High Risk, Cluster #1: Medium Risk, Cluster #2: Low Risk\")\n",
    "print\n",
    "avg=df2.groupby('Cluster')['bp.1s','bp.1d','bp.2s','bp.2d'].mean()\n",
    "print(avg)"
   ]
  },
  {
   "cell_type": "code",
   "execution_count": 5,
   "metadata": {},
   "outputs": [
    {
     "name": "stdout",
     "output_type": "stream",
     "text": [
      "341.25\n"
     ]
    }
   ],
   "source": [
    "#3. Extract the average postprandial time after which doctor should conduct a test?\n",
    "\n",
    "avgppn=df['time.ppn'].mean()\n",
    "print(avgppn)"
   ]
  },
  {
   "cell_type": "code",
   "execution_count": null,
   "metadata": {},
   "outputs": [],
   "source": []
  }
 ],
 "metadata": {
  "kernelspec": {
   "display_name": "Python 2",
   "language": "python",
   "name": "python2"
  },
  "language_info": {
   "codemirror_mode": {
    "name": "ipython",
    "version": 2
   },
   "file_extension": ".py",
   "mimetype": "text/x-python",
   "name": "python",
   "nbconvert_exporter": "python",
   "pygments_lexer": "ipython2",
   "version": "2.7.16"
  }
 },
 "nbformat": 4,
 "nbformat_minor": 2
}
