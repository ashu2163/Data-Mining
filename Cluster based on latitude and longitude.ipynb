{
 "cells": [
  {
   "cell_type": "code",
   "execution_count": 1,
   "metadata": {},
   "outputs": [],
   "source": [
    "import pandas as pd\n",
    "import numpy as np\n",
    "from sklearn.datasets.samples_generator import make_blobs\n",
    "from sklearn.cluster import KMeans\n",
    "import matplotlib.pyplot as plt\n",
    "import math"
   ]
  },
  {
   "cell_type": "code",
   "execution_count": 2,
   "metadata": {
    "scrolled": true
   },
   "outputs": [
    {
     "data": {
      "text/plain": [
       "'CA'"
      ]
     },
     "execution_count": 2,
     "metadata": {},
     "output_type": "execute_result"
    }
   ],
   "source": [
    "df=pd.read_csv('all_month.csv')\n",
    "\n",
    "#1.Which area in US has faced most of the earthquakes?\n",
    "\n",
    "df2= df['place'].str.split(', ').str[1]\n",
    "df2.value_counts().idxmax()"
   ]
  },
  {
   "cell_type": "code",
   "execution_count": 20,
   "metadata": {},
   "outputs": [
    {
     "name": "stdout",
     "output_type": "stream",
     "text": [
      "Cluster #0: Highest Chance, Cluster #1: Medium Chance, Cluster #2: Least Chance\n",
      "[[  18.4616741   -64.74040234    2.6522314 ]\n",
      " [  40.83914988 -162.13022375    0.63411765]\n",
      " [  36.97006306 -116.67612497    1.02712372]]\n"
     ]
    },
    {
     "data": {
      "image/png": "[encoded data removed]",
      "text/plain": [
       "<Figure size 432x288 with 1 Axes>"
      ]
     },
     "metadata": {
      "needs_background": "light"
     },
     "output_type": "display_data"
    }
   ],
   "source": [
    "#2. Designing a cluster of latitude and longitude which has highest chances of getting an earthquake?\n",
    "\n",
    "modifieddata=df.dropna()\n",
    "df1 = pd.DataFrame(modifieddata, columns=['latitude', 'longitude', 'mag'])\n",
    "kmeans = KMeans(n_clusters=3).fit(df1)\n",
    "centroids = kmeans.cluster_centers_\n",
    "print(\"Cluster #0: Highest Chance, Cluster #1: Medium Chance, Cluster #2: Least Chance\")\n",
    "print(centroids)\n",
    "plt.xlabel('latitude')\n",
    "plt.ylabel('longitude')\n",
    "plt.scatter(modifieddata['latitude'], modifieddata['longitude'], c= kmeans.labels_.astype(float), s=50, alpha=0.5)\n",
    "plt.scatter(centroids[:, 0], centroids[:, 1], c='red', s=50)\n",
    "plt.show()\n"
   ]
  },
  {
   "cell_type": "code",
   "execution_count": 16,
   "metadata": {
    "scrolled": false
   },
   "outputs": [
    {
     "name": "stdout",
     "output_type": "stream",
     "text": [
      "['CA' 'Alaska' 'Idaho' 'Utah' 'Puerto Rico' 'Montana' 'Albania'\n",
      " 'California' 'Washington' 'Hawaii' 'Indonesia' 'Argentina' 'Peru'\n",
      " 'Wyoming' 'Nevada' 'New Mexico' 'Oregon' 'Chile' 'B.C.' 'Philippines'\n",
      " 'Oklahoma' 'Mexico' 'Russia' 'Northern Mariana Islands' 'Oman' 'Tonga'\n",
      " 'Japan' 'Papua New Guinea' 'Missouri' 'Colombia' 'India' None 'Taiwan'\n",
      " 'Canada' 'France' 'Turkey' 'Romania' 'Pakistan' 'Tajikistan'\n",
      " 'Dominican Republic' 'Guatemala' 'Maine' 'Greece' 'Kansas' 'Colorado'\n",
      " 'Tennessee' 'South Sandwich Islands' 'New Caledonia' 'Afghanistan' 'Guam'\n",
      " 'Zimbabwe' 'China' 'New Zealand' 'Honduras' 'El Salvador' 'Pennsylvania'\n",
      " 'Costa Rica' 'Wallis and Futuna' 'Kyrgyzstan'\n",
      " 'South Georgia and the South Sandwich Islands' 'Trinidad and Tobago'\n",
      " 'Solomon Islands' 'Ohio' 'Arkansas' 'South Carolina' 'Vanuatu' 'Iceland'\n",
      " 'North Carolina' 'Greenland' 'East Timor' 'Fiji' 'Texas' 'Syria' 'Italy'\n",
      " 'NV' 'Burma' 'Nicaragua' 'Mozambique' 'Arizona' 'Antigua and Barbuda'\n",
      " 'Ecuador' 'New York' 'U.S. Virgin Islands' 'Croatia' 'Ecuador region'\n",
      " 'Iran' 'Algeria' 'Cayman Islands' 'Micronesia' 'Mongolia' 'Comoros'\n",
      " 'Uganda' 'Bolivia' 'British Indian Ocean Territory' 'Kosovo' 'Iraq'\n",
      " 'Venezuela' 'New Hampshire' 'Nepal' 'Portugal']\n",
      "Please enter palce from above list in which you want to find average magnitude\n",
      "China\n",
      "state\n",
      "China    32.888043\n",
      "Name: latitude, dtype: float64\n",
      "Please enter range in miles\n",
      "400\n",
      "('Average Magnitude:', 4.541666666666667)\n"
     ]
    }
   ],
   "source": [
    "# 3: Extracting an average magnitude of earthquake from one place within certain range?\n",
    "\n",
    "df[['region','state']]=df.place.str.split(\", \",expand=True,).drop(2,axis=1)\n",
    "modifieddata=df.copy()\n",
    "print(modifieddata.state.unique())\n",
    "print(\"Please enter palce from above list in which you want to find average magnitude\")\n",
    "name=raw_input()\n",
    "x=True\n",
    "while(x):\n",
    "    if(modifieddata['state'].isin([name]).any() ):\n",
    "        sample=modifieddata[modifieddata['state']==name].groupby('state')['latitude','longitude'].mean()\n",
    "\n",
    "        print(sample['latitude'])\n",
    "\n",
    "        print(\"Please enter range in miles\")\n",
    "        range=input()    \n",
    "        maxlat=sample['latitude']+range/69\n",
    "        minlat=sample['latitude']-range/69\n",
    "        maxlon=sample['longitude']+range/40\n",
    "        minlon=sample['longitude']-range/40\n",
    "\n",
    "        if(range==0):\n",
    "            modifieddata=df.loc[df['state'] == name, 'mag'].mean()\n",
    "        \n",
    "        else:\n",
    "            modifieddata=df.loc[df['latitude'].between(np.asscalar(minlat),np.asscalar(maxlat),inclusive=True),['longitude','mag']]\n",
    "            modifieddata=modifieddata.loc[df['longitude'].between(np.asscalar(minlon),np.asscalar(maxlon),inclusive=True),'mag'].mean()\n",
    "            if type(modifieddata) == float and pd.isna(modifieddata):\n",
    "                modifieddata=df.loc[df['state'] == name, 'mag'].mean()\n",
    "        print('Average Magnitude:',modifieddata)\n",
    "        x=False\n",
    "    else:\n",
    "        print(\"Place not found!! Please copy the name from above list and paste it here:\")\n",
    "        name=raw_input()\n",
    "\n"
   ]
  },
  {
   "cell_type": "code",
   "execution_count": null,
   "metadata": {},
   "outputs": [],
   "source": []
  },
  {
   "cell_type": "code",
   "execution_count": null,
   "metadata": {},
   "outputs": [],
   "source": []
  }
 ],
 "metadata": {
  "kernelspec": {
   "display_name": "Python 2",
   "language": "python",
   "name": "python2"
  },
  "language_info": {
   "codemirror_mode": {
    "name": "ipython",
    "version": 2
   },
   "file_extension": ".py",
   "mimetype": "text/x-python",
   "name": "python",
   "nbconvert_exporter": "python",
   "pygments_lexer": "ipython2",
   "version": "2.7.16"
  }
 },
 "nbformat": 4,
 "nbformat_minor": 2
}
